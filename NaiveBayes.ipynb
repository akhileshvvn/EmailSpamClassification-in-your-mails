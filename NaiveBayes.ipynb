{
 "cells": [
  {
   "cell_type": "markdown",
   "metadata": {},
   "source": [
    "# EMAIL SPAM FILTERING - NAIVE BAYES"
   ]
  },
  {
   "cell_type": "code",
   "execution_count": null,
   "metadata": {},
   "outputs": [],
   "source": [
    "import os\n",
    "import io\n",
    "import numpy\n",
    "from pandas import DataFrame\n",
    "from sklearn.feature_extraction.text import CountVectorizer\n",
    "from sklearn.naive_bayes import MultinomialNB\n",
    "\n",
    "def readFiles(path):\n",
    "    for root, dirnames, filenames in os.walk(path):\n",
    "        for filename in filenames:\n",
    "            path = os.path.join(root, filename)\n",
    "\n",
    "            inBody = False\n",
    "            lines = []\n",
    "            f = io.open(path, 'r', encoding='latin1')\n",
    "            for line in f:\n",
    "                if inBody:\n",
    "                    lines.append(line)\n",
    "                elif line == '\\n':\n",
    "                    inBody = True\n",
    "            f.close()\n",
    "            message = '\\n'.join(lines)\n",
    "            yield path, message\n",
    "\n",
    "\n",
    "def dataFrameFromDirectory(path, classification):\n",
    "    rows = []\n",
    "    index = []\n",
    "    for filename, message in readFiles(path):\n",
    "        rows.append({'message': message, 'class': classification})\n",
    "        index.append(filename)\n",
    "\n",
    "    return DataFrame(rows, index=index)\n",
    "\n",
    "data = DataFrame({'message': [], 'class': []})\n",
    "\n",
    "data = data.append(dataFrameFromDirectory('emails/spam', 'spam'))\n",
    "data = data.append(dataFrameFromDirectory('emails/ham', 'ham'))"
   ]
  },
  {
   "cell_type": "code",
   "execution_count": null,
   "metadata": {},
   "outputs": [],
   "source": [
    "data.head()"
   ]
  },
  {
   "cell_type": "code",
   "execution_count": null,
   "metadata": {},
   "outputs": [],
   "source": [
    "from sklearn.model_selection import train_test_split\n",
    "X_train, X_test, y_train, y_test = train_test_split(data['message'], data['class'], test_size=0.33, random_state=42)\n",
    "vectorizer = CountVectorizer()\n",
    "counts = vectorizer.fit_transform(X_train.values)\n",
    "\n",
    "classifier = MultinomialNB()\n",
    "targets = y_train.values\n",
    "classifier.fit(counts, targets)"
   ]
  },
  {
   "cell_type": "code",
   "execution_count": null,
   "metadata": {},
   "outputs": [],
   "source": [
    "examples = ['Free Money now!!!', \"how about a game of cricket tomorrow?\"]\n",
    "example_counts = vectorizer.transform(examples)\n",
    "predictions = classifier.predict(example_counts)\n",
    "predictions"
   ]
  },
  {
   "cell_type": "code",
   "execution_count": null,
   "metadata": {},
   "outputs": [],
   "source": [
    "l=[]\n",
    "for i in X_test:\n",
    "    l.append(i)\n",
    "l_counts = vectorizer.transform(l)\n",
    "predicts = classifier.predict(l_counts)\n",
    "correct=0\n",
    "wrong=0\n",
    "for i,j in zip(predicts,y_test):\n",
    "    if(i==j):\n",
    "        correct=correct+1\n",
    "    else:\n",
    "        wrong=wrong+1\n",
    "print(correct,wrong)"
   ]
  },
  {
   "cell_type": "code",
   "execution_count": null,
   "metadata": {},
   "outputs": [],
   "source": [
    "#ERROR RATE:\n",
    "accuracy = (abs(correct-len(l))/len(l))*100\n",
    "print(\"Error Rate:\",str(accuracy),\"%\",\"\\nACCURACY:\",str(100-accuracy),\"%\")"
   ]
  },
  {
   "cell_type": "code",
   "execution_count": null,
   "metadata": {},
   "outputs": [],
   "source": [
    "import imaplib\n",
    "import email\n",
    "import pandas as pd\n",
    "\n",
    "host = 'imap.gmail.com'\n",
    "username = 'xxxxxxxxxxxxxxxxx@gmail.com'\n",
    "password = 'enteryourpassword'\n",
    "\n",
    "\n",
    "def get_inbox():\n",
    "    mail = imaplib.IMAP4_SSL(host)\n",
    "    mail.login(username, password)\n",
    "    mail.select(\"inbox\")\n",
    "    _, search_data = mail.search(None, 'ALL')\n",
    "    my_message = []\n",
    "    for num in search_data[0].split():\n",
    "        l=[]\n",
    "        email_data = {}\n",
    "        _, data = mail.fetch(num, '(RFC822)')\n",
    "        # print(data[0])\n",
    "        _, b = data[0]\n",
    "        email_message = email.message_from_bytes(b)\n",
    "        for header in ['subject', 'to', 'from', 'date']:\n",
    "            #print(\"{}: {}\".format(header, email_message[header]))\n",
    "            email_data[header] = email_message[header]\n",
    "        for part in email_message.walk():\n",
    "            if part.get_content_type() == \"text/plain\":\n",
    "                body = part.get_payload(decode=True)\n",
    "                email_data['body'] = body.decode()\n",
    "        l.append(email_message['subject'])\n",
    "        l.append(email_message['to'])\n",
    "        l.append(email_message['from'])\n",
    "        l.append(email_message['date'])\n",
    "        l.append(email_data['body'])\n",
    "        my_message.append(l)\n",
    "    return my_message\n",
    "\n",
    "\n",
    "if __name__ == \"__main__\":\n",
    "    cols = ['subject','to','from','date','body']\n",
    "    my_inbox = get_inbox()\n",
    "    df = pd.DataFrame(my_inbox,columns=cols)\n",
    "    print(df.head())"
   ]
  },
  {
   "cell_type": "code",
   "execution_count": null,
   "metadata": {},
   "outputs": [],
   "source": [
    "emailpre = df['body']\n",
    "emailpre_counts = vectorizer.transform(emailpre)\n",
    "predictemail = classifier.predict(emailpre_counts)\n",
    "df2 = pd.DataFrame({'from':df['from'],'predicted':predictemail,'body':df['body']})\n",
    "df2"
   ]
  },
  {
   "cell_type": "code",
   "execution_count": null,
   "metadata": {},
   "outputs": [],
   "source": [
    "print(\"Number of Ham\")\n",
    "df2[df2[\"predicted\"] == 'ham'].count()"
   ]
  },
  {
   "cell_type": "code",
   "execution_count": null,
   "metadata": {},
   "outputs": [],
   "source": [
    "print(\"Number of Spam\")\n",
    "df2[df2[\"predicted\"] == 'spam'].count()"
   ]
  },
  {
   "cell_type": "code",
   "execution_count": null,
   "metadata": {},
   "outputs": [],
   "source": []
  }
 ],
 "metadata": {
  "kernelspec": {
   "display_name": "Python 3",
   "language": "python",
   "name": "python3"
  },
  "language_info": {
   "codemirror_mode": {
    "name": "ipython",
    "version": 3
   },
   "file_extension": ".py",
   "mimetype": "text/x-python",
   "name": "python",
   "nbconvert_exporter": "python",
   "pygments_lexer": "ipython3",
   "version": "3.7.1"
  }
 },
 "nbformat": 4,
 "nbformat_minor": 1
}
